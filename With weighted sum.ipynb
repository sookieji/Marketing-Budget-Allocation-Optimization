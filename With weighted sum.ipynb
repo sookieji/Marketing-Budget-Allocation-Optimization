{
 "cells": [
  {
   "cell_type": "markdown",
   "id": "5ea2ff67",
   "metadata": {},
   "source": [
    "#### Importing importand libraries\n",
    "import numpy as np\n",
    "import pandas as pd\n",
    "import matplotlib.pyplot as plt\n",
    "import seaborn as sns"
   ]
  },
  {
   "cell_type": "code",
   "execution_count": 70,
   "id": "676ab9b7",
   "metadata": {},
   "outputs": [],
   "source": [
    "import pandas as pd\n",
    "import matplotlib.pyplot as plt"
   ]
  },
  {
   "cell_type": "code",
   "execution_count": 140,
   "id": "a804c8f2",
   "metadata": {},
   "outputs": [
    {
     "data": {
      "text/plain": [
       "(266304, 22)"
      ]
     },
     "execution_count": 140,
     "metadata": {},
     "output_type": "execute_result"
    }
   ],
   "source": [
    "data2 = pd.read_csv('spend_hp_data_2.csv')\n",
    "data2.shape"
   ]
  },
  {
   "cell_type": "code",
   "execution_count": 141,
   "id": "139f1b50",
   "metadata": {},
   "outputs": [
    {
     "name": "stdout",
     "output_type": "stream",
     "text": [
      "Train Score for Linear Regression: 0.13787939204266753\n",
      "Test Score for Linear Regression: 0.14091987316567844\n"
     ]
    }
   ],
   "source": [
    "y = data2[['$ Spend']]\n",
    "X = data2[['Perf']]\n",
    "from sklearn.preprocessing import StandardScaler\n",
    "scalar = StandardScaler()\n",
    "    \n",
    "\n",
    "from sklearn.model_selection import train_test_split\n",
    "X_train, X_test, y_train, y_test = train_test_split(X, y, random_state = 0)\n",
    "X_train = scalar.fit_transform(X_train)\n",
    "X_test = scalar.transform(X_test)\n",
    "\n",
    "from sklearn.linear_model import LinearRegression\n",
    "lreg = LinearRegression()\n",
    "lreg.fit(X_train, y_train)\n",
    "print('Train Score for Linear Regression:', lreg.score(X_train, y_train))\n",
    "print('Test Score for Linear Regression:', lreg.score(X_test, y_test))"
   ]
  },
  {
   "cell_type": "code",
   "execution_count": 142,
   "id": "7bc0c662",
   "metadata": {},
   "outputs": [
    {
     "name": "stdout",
     "output_type": "stream",
     "text": [
      "Train Score for Linear Regression: 0.13787939204266764\n",
      "Test Score for Linear Regression: 0.14106920321616567\n"
     ]
    }
   ],
   "source": [
    "X = data2[['$ Spend']]\n",
    "y = data2[['Perf']]\n",
    "from sklearn.preprocessing import StandardScaler\n",
    "scalar = StandardScaler()\n",
    "    \n",
    "\n",
    "from sklearn.model_selection import train_test_split\n",
    "X_train, X_test, y_train, y_test = train_test_split(X, y, random_state = 0)\n",
    "X_train = scalar.fit_transform(X_train)\n",
    "X_test = scalar.transform(X_test)\n",
    "\n",
    "from sklearn.linear_model import LinearRegression\n",
    "lreg = LinearRegression()\n",
    "lreg.fit(X_train, y_train)\n",
    "print('Train Score for Linear Regression:', lreg.score(X_train, y_train))\n",
    "print('Test Score for Linear Regression:', lreg.score(X_test, y_test))"
   ]
  },
  {
   "cell_type": "code",
   "execution_count": 143,
   "id": "1da7e504",
   "metadata": {},
   "outputs": [
    {
     "name": "stdout",
     "output_type": "stream",
     "text": [
      "<class 'pandas.core.frame.DataFrame'>\n",
      "RangeIndex: 266304 entries, 0 to 266303\n",
      "Data columns (total 22 columns):\n",
      " #   Column              Non-Null Count   Dtype  \n",
      "---  ------              --------------   -----  \n",
      " 0   Date                266304 non-null  object \n",
      " 1   Campaign ID         266304 non-null  int64  \n",
      " 2   Campaign Goal Code  266304 non-null  object \n",
      " 3   Campaign Ad ID      266304 non-null  int64  \n",
      " 4   Ad Digital Channel  266304 non-null  object \n",
      " 5   Ad channel partner  266304 non-null  object \n",
      " 6   Ad Device           266304 non-null  object \n",
      " 7   Ad Group            266304 non-null  object \n",
      " 8   Ad Content Type     266304 non-null  object \n",
      " 9   Audience Type       266304 non-null  object \n",
      " 10  $ Spend             266304 non-null  int64  \n",
      " 11  # Impressions       266304 non-null  int64  \n",
      " 12  # Clicks            266304 non-null  int64  \n",
      " 13  # Video Completes   266304 non-null  int64  \n",
      " 14  # Social Likes      266304 non-null  int64  \n",
      " 15  # Social Shares     266304 non-null  int64  \n",
      " 16  # Web Visit         266304 non-null  int64  \n",
      " 17  # Collateral View   266304 non-null  int64  \n",
      " 18  # Product View      266304 non-null  int64  \n",
      " 19  # Form Complete     266304 non-null  int64  \n",
      " 20  CPC                 266304 non-null  float64\n",
      " 21  Perf                266304 non-null  float64\n",
      "dtypes: float64(2), int64(12), object(8)\n",
      "memory usage: 44.7+ MB\n"
     ]
    }
   ],
   "source": [
    "data2.info()"
   ]
  },
  {
   "cell_type": "code",
   "execution_count": 144,
   "id": "ecb78b5a",
   "metadata": {},
   "outputs": [
    {
     "name": "stdout",
     "output_type": "stream",
     "text": [
      "<class 'pandas.core.frame.DataFrame'>\n",
      "RangeIndex: 266304 entries, 0 to 266303\n",
      "Data columns (total 5 columns):\n",
      " #   Column              Non-Null Count   Dtype  \n",
      "---  ------              --------------   -----  \n",
      " 0   Campaign Goal Code  266304 non-null  object \n",
      " 1   Ad Digital Channel  266304 non-null  object \n",
      " 2   Audience Type       266304 non-null  object \n",
      " 3   $ Spend             266304 non-null  int64  \n",
      " 4   Perf                266304 non-null  float64\n",
      "dtypes: float64(1), int64(1), object(3)\n",
      "memory usage: 10.2+ MB\n"
     ]
    }
   ],
   "source": [
    "data2.drop(data2.columns[[0,1,3,5,6,7,8,11,12,13,14,15,16,17,18,19,20]], axis = 1, inplace=True)\n",
    "data2.info()"
   ]
  },
  {
   "cell_type": "code",
   "execution_count": 145,
   "id": "59df4f8e",
   "metadata": {},
   "outputs": [
    {
     "name": "stdout",
     "output_type": "stream",
     "text": [
      "<class 'pandas.core.frame.DataFrame'>\n",
      "RangeIndex: 266304 entries, 0 to 266303\n",
      "Data columns (total 15 columns):\n",
      " #   Column                                   Non-Null Count   Dtype  \n",
      "---  ------                                   --------------   -----  \n",
      " 0   $ Spend                                  266304 non-null  int64  \n",
      " 1   Perf                                     266304 non-null  float64\n",
      " 2   Ad Digital Channel_Programmatic Display  266304 non-null  uint8  \n",
      " 3   Ad Digital Channel_Search                266304 non-null  uint8  \n",
      " 4   Ad Digital Channel_Social                266304 non-null  uint8  \n",
      " 5   Audience Type_Audience Type 1            266304 non-null  uint8  \n",
      " 6   Audience Type_Audience Type 2            266304 non-null  uint8  \n",
      " 7   Audience Type_Audience Type 3            266304 non-null  uint8  \n",
      " 8   Audience Type_Audience Type 4            266304 non-null  uint8  \n",
      " 9   Audience Type_Audience Type 5            266304 non-null  uint8  \n",
      " 10  Campaign Goal Code_Awareness             266304 non-null  uint8  \n",
      " 11  Campaign Goal Code_Consideration         266304 non-null  uint8  \n",
      " 12  Campaign Goal Code_Engagement            266304 non-null  uint8  \n",
      " 13  Campaign Goal Code_Intent to Buy         266304 non-null  uint8  \n",
      " 14  Campaign Goal Code_Purchase              266304 non-null  uint8  \n",
      "dtypes: float64(1), int64(1), uint8(13)\n",
      "memory usage: 7.4 MB\n"
     ]
    }
   ],
   "source": [
    "data_final = pd.get_dummies(data2, columns = ['Ad Digital Channel','Audience Type','Campaign Goal Code'])\n",
    "data_final.info()"
   ]
  },
  {
   "cell_type": "code",
   "execution_count": 146,
   "id": "157f8180",
   "metadata": {},
   "outputs": [],
   "source": [
    "y = data_final['Perf']\n",
    "X = data_final.drop('Perf', axis = 1)"
   ]
  },
  {
   "cell_type": "code",
   "execution_count": 147,
   "id": "8d5da665",
   "metadata": {},
   "outputs": [
    {
     "name": "stdout",
     "output_type": "stream",
     "text": [
      "                            OLS Regression Results                            \n",
      "==============================================================================\n",
      "Dep. Variable:                   Perf   R-squared:                       0.229\n",
      "Model:                            OLS   Adj. R-squared:                  0.229\n",
      "Method:                 Least Squares   F-statistic:                     7207.\n",
      "Date:                Tue, 14 Mar 2023   Prob (F-statistic):               0.00\n",
      "Time:                        18:25:22   Log-Likelihood:            -2.6856e+06\n",
      "No. Observations:              266304   AIC:                         5.371e+06\n",
      "Df Residuals:                  266292   BIC:                         5.371e+06\n",
      "Df Model:                          11                                         \n",
      "Covariance Type:            nonrobust                                         \n",
      "===========================================================================================================\n",
      "                                              coef    std err          t      P>|t|      [0.025      0.975]\n",
      "-----------------------------------------------------------------------------------------------------------\n",
      "const                                    3.656e+12   7.47e+13      0.049      0.961   -1.43e+14     1.5e+14\n",
      "$ Spend                                   103.5594      0.474    218.611      0.000     102.631     104.488\n",
      "Ad Digital Channel_Programmatic Display  1.626e+12   3.32e+13      0.049      0.961   -6.35e+13    6.67e+13\n",
      "Ad Digital Channel_Search                1.626e+12   3.32e+13      0.049      0.961   -6.35e+13    6.67e+13\n",
      "Ad Digital Channel_Social                1.626e+12   3.32e+13      0.049      0.961   -6.35e+13    6.67e+13\n",
      "Audience Type_Audience Type 1             9.95e+11   2.03e+13      0.049      0.961   -3.88e+13    4.08e+13\n",
      "Audience Type_Audience Type 2             9.95e+11   2.03e+13      0.049      0.961   -3.88e+13    4.08e+13\n",
      "Audience Type_Audience Type 3             9.95e+11   2.03e+13      0.049      0.961   -3.88e+13    4.08e+13\n",
      "Audience Type_Audience Type 4             9.95e+11   2.03e+13      0.049      0.961   -3.88e+13    4.08e+13\n",
      "Audience Type_Audience Type 5             9.95e+11   2.03e+13      0.049      0.961   -3.88e+13    4.08e+13\n",
      "Campaign Goal Code_Awareness            -6.277e+12   1.28e+14     -0.049      0.961   -2.58e+14    2.45e+14\n",
      "Campaign Goal Code_Consideration        -6.277e+12   1.28e+14     -0.049      0.961   -2.58e+14    2.45e+14\n",
      "Campaign Goal Code_Engagement           -6.277e+12   1.28e+14     -0.049      0.961   -2.58e+14    2.45e+14\n",
      "Campaign Goal Code_Intent to Buy        -6.277e+12   1.28e+14     -0.049      0.961   -2.58e+14    2.45e+14\n",
      "Campaign Goal Code_Purchase             -6.277e+12   1.28e+14     -0.049      0.961   -2.58e+14    2.45e+14\n",
      "==============================================================================\n",
      "Omnibus:                   417343.388   Durbin-Watson:                   1.936\n",
      "Prob(Omnibus):                  0.000   Jarque-Bera (JB):        541765205.259\n",
      "Skew:                           9.760   Prob(JB):                         0.00\n",
      "Kurtosis:                     223.100   Cond. No.                     7.03e+15\n",
      "==============================================================================\n",
      "\n",
      "Notes:\n",
      "[1] Standard Errors assume that the covariance matrix of the errors is correctly specified.\n",
      "[2] The smallest eigenvalue is 6.55e-24. This might indicate that there are\n",
      "strong multicollinearity problems or that the design matrix is singular.\n"
     ]
    }
   ],
   "source": [
    "import pandas as pd\n",
    "import numpy as np\n",
    "from sklearn import datasets, linear_model\n",
    "from sklearn.linear_model import LinearRegression\n",
    "import statsmodels.api as sm\n",
    "from scipy import stats\n",
    "\n",
    "X2 = sm.add_constant(X)\n",
    "est = sm.OLS(y, X2)\n",
    "est2 = est.fit()\n",
    "print(est2.summary())"
   ]
  },
  {
   "cell_type": "code",
   "execution_count": 148,
   "id": "a0a2e5f4",
   "metadata": {},
   "outputs": [
    {
     "data": {
      "text/plain": [
       "(266304, 22)"
      ]
     },
     "execution_count": 148,
     "metadata": {},
     "output_type": "execute_result"
    }
   ],
   "source": [
    "data2 = pd.read_csv('spend_hp_data_2.csv')\n",
    "data2.shape"
   ]
  },
  {
   "cell_type": "code",
   "execution_count": 149,
   "id": "c424a9ad",
   "metadata": {},
   "outputs": [
    {
     "data": {
      "text/plain": [
       "(265388, 22)"
      ]
     },
     "execution_count": 149,
     "metadata": {},
     "output_type": "execute_result"
    }
   ],
   "source": [
    "data = data2[data2['Perf']>0]\n",
    "data.shape"
   ]
  },
  {
   "cell_type": "code",
   "execution_count": 150,
   "id": "524086a9",
   "metadata": {},
   "outputs": [
    {
     "data": {
      "text/plain": [
       "<matplotlib.collections.PathCollection at 0x7fb43ca1f220>"
      ]
     },
     "execution_count": 150,
     "metadata": {},
     "output_type": "execute_result"
    },
    {
     "data": {
      "image/png": "[encoded data removed]",
      "text/plain": [
       "<Figure size 432x288 with 1 Axes>"
      ]
     },
     "metadata": {
      "needs_background": "light"
     },
     "output_type": "display_data"
    }
   ],
   "source": [
    "from scipy import stats\n",
    "X = data['$ Spend']\n",
    "y = data['Perf']\n",
    "y,_ = stats.boxcox(y)\n",
    "X,_ = stats.boxcox(X)\n",
    "\n",
    "y = pd.DataFrame({'Perf':y})\n",
    "X = pd.DataFrame({'$ Spend':X})\n",
    "plt.scatter(X,y)"
   ]
  },
  {
   "cell_type": "code",
   "execution_count": 151,
   "id": "4583bfa4",
   "metadata": {},
   "outputs": [
    {
     "name": "stdout",
     "output_type": "stream",
     "text": [
      "                            OLS Regression Results                            \n",
      "==============================================================================\n",
      "Dep. Variable:                   Perf   R-squared:                       0.407\n",
      "Model:                            OLS   Adj. R-squared:                  0.407\n",
      "Method:                 Least Squares   F-statistic:                 1.819e+05\n",
      "Date:                Tue, 14 Mar 2023   Prob (F-statistic):               0.00\n",
      "Time:                        18:25:46   Log-Likelihood:            -6.1251e+05\n",
      "No. Observations:              265388   AIC:                         1.225e+06\n",
      "Df Residuals:                  265386   BIC:                         1.225e+06\n",
      "Df Model:                           1                                         \n",
      "Covariance Type:            nonrobust                                         \n",
      "==============================================================================\n",
      "                 coef    std err          t      P>|t|      [0.025      0.975]\n",
      "------------------------------------------------------------------------------\n",
      "const          3.0635      0.009    322.947      0.000       3.045       3.082\n",
      "$ Spend        0.8844      0.002    426.498      0.000       0.880       0.888\n",
      "==============================================================================\n",
      "Omnibus:                     5381.549   Durbin-Watson:                   1.617\n",
      "Prob(Omnibus):                  0.000   Jarque-Bera (JB):             5713.612\n",
      "Skew:                          -0.357   Prob(JB):                         0.00\n",
      "Kurtosis:                       3.085   Cond. No.                         9.52\n",
      "==============================================================================\n",
      "\n",
      "Notes:\n",
      "[1] Standard Errors assume that the covariance matrix of the errors is correctly specified.\n"
     ]
    }
   ],
   "source": [
    "import pandas as pd\n",
    "import numpy as np\n",
    "from sklearn import datasets, linear_model\n",
    "from sklearn.linear_model import LinearRegression\n",
    "import statsmodels.api as sm\n",
    "from scipy import stats\n",
    "\n",
    "X2 = sm.add_constant(X)\n",
    "est = sm.OLS(y, X2)\n",
    "est2 = est.fit()\n",
    "print(est2.summary())"
   ]
  },
  {
   "cell_type": "code",
   "execution_count": 152,
   "id": "1aaee465",
   "metadata": {},
   "outputs": [
    {
     "name": "stdout",
     "output_type": "stream",
     "text": [
      "<class 'pandas.core.frame.DataFrame'>\n",
      "Int64Index: 265388 entries, 0 to 266303\n",
      "Data columns (total 4 columns):\n",
      " #   Column              Non-Null Count   Dtype  \n",
      "---  ------              --------------   -----  \n",
      " 0   Ad Digital Channel  265388 non-null  object \n",
      " 1   Audience Type       265388 non-null  object \n",
      " 2   $ Spend             265388 non-null  int64  \n",
      " 3   Perf                265388 non-null  float64\n",
      "dtypes: float64(1), int64(1), object(2)\n",
      "memory usage: 10.1+ MB\n"
     ]
    },
    {
     "name": "stderr",
     "output_type": "stream",
     "text": [
      "/var/folders/q_/dwbhym5j41q1s155dj8tv39r0000gn/T/ipykernel_88476/2585581193.py:1: SettingWithCopyWarning: \n",
      "A value is trying to be set on a copy of a slice from a DataFrame\n",
      "\n",
      "See the caveats in the documentation: https://pandas.pydata.org/pandas-docs/stable/user_guide/indexing.html#returning-a-view-versus-a-copy\n",
      "  data.drop(data.columns[[0,1,2,3,5,6,7,8,11,12,13,14,15,16,17,18,19,20]], axis = 1, inplace=True)\n"
     ]
    }
   ],
   "source": [
    "data.drop(data.columns[[0,1,2,3,5,6,7,8,11,12,13,14,15,16,17,18,19,20]], axis = 1, inplace=True)\n",
    "data.info()"
   ]
  },
  {
   "cell_type": "code",
   "execution_count": 153,
   "id": "57138e9f",
   "metadata": {},
   "outputs": [
    {
     "data": {
      "text/html": [
       "<div>\n",
       "<style scoped>\n",
       "    .dataframe tbody tr th:only-of-type {\n",
       "        vertical-align: middle;\n",
       "    }\n",
       "\n",
       "    .dataframe tbody tr th {\n",
       "        vertical-align: top;\n",
       "    }\n",
       "\n",
       "    .dataframe thead th {\n",
       "        text-align: right;\n",
       "    }\n",
       "</style>\n",
       "<table border=\"1\" class=\"dataframe\">\n",
       "  <thead>\n",
       "    <tr style=\"text-align: right;\">\n",
       "      <th></th>\n",
       "      <th>Ad Digital Channel</th>\n",
       "      <th>Audience Type</th>\n",
       "      <th>spend</th>\n",
       "      <th>Perf</th>\n",
       "    </tr>\n",
       "  </thead>\n",
       "  <tbody>\n",
       "    <tr>\n",
       "      <th>0</th>\n",
       "      <td>Search</td>\n",
       "      <td>Audience Type 1</td>\n",
       "      <td>4.822978</td>\n",
       "      <td>55.004942</td>\n",
       "    </tr>\n",
       "    <tr>\n",
       "      <th>1</th>\n",
       "      <td>Search</td>\n",
       "      <td>Audience Type 1</td>\n",
       "      <td>3.060041</td>\n",
       "      <td>6.261748</td>\n",
       "    </tr>\n",
       "    <tr>\n",
       "      <th>2</th>\n",
       "      <td>Search</td>\n",
       "      <td>Audience Type 1</td>\n",
       "      <td>2.880727</td>\n",
       "      <td>106.838661</td>\n",
       "    </tr>\n",
       "    <tr>\n",
       "      <th>3</th>\n",
       "      <td>Search</td>\n",
       "      <td>Audience Type 1</td>\n",
       "      <td>2.230852</td>\n",
       "      <td>12.932054</td>\n",
       "    </tr>\n",
       "    <tr>\n",
       "      <th>4</th>\n",
       "      <td>Social</td>\n",
       "      <td>Audience Type 2</td>\n",
       "      <td>3.381082</td>\n",
       "      <td>33.822295</td>\n",
       "    </tr>\n",
       "  </tbody>\n",
       "</table>\n",
       "</div>"
      ],
      "text/plain": [
       "  Ad Digital Channel    Audience Type     spend        Perf\n",
       "0             Search  Audience Type 1  4.822978   55.004942\n",
       "1             Search  Audience Type 1  3.060041    6.261748\n",
       "2             Search  Audience Type 1  2.880727  106.838661\n",
       "3             Search  Audience Type 1  2.230852   12.932054\n",
       "4             Social  Audience Type 2  3.381082   33.822295"
      ]
     },
     "execution_count": 153,
     "metadata": {},
     "output_type": "execute_result"
    }
   ],
   "source": [
    "df = pd.DataFrame({'Ad Digital Channel':data['Ad Digital Channel'].values,\n",
    "                   'Audience Type':data['Audience Type'].values,'spend':X['$ Spend'].values,\n",
    "                  'Perf':data['Perf'].values})\n",
    "df.head()"
   ]
  },
  {
   "cell_type": "code",
   "execution_count": 154,
   "id": "4d5c5a10",
   "metadata": {},
   "outputs": [
    {
     "data": {
      "text/html": [
       "<div>\n",
       "<style scoped>\n",
       "    .dataframe tbody tr th:only-of-type {\n",
       "        vertical-align: middle;\n",
       "    }\n",
       "\n",
       "    .dataframe tbody tr th {\n",
       "        vertical-align: top;\n",
       "    }\n",
       "\n",
       "    .dataframe thead th {\n",
       "        text-align: right;\n",
       "    }\n",
       "</style>\n",
       "<table border=\"1\" class=\"dataframe\">\n",
       "  <thead>\n",
       "    <tr style=\"text-align: right;\">\n",
       "      <th></th>\n",
       "      <th>spend</th>\n",
       "      <th>Perf</th>\n",
       "      <th>Ad Digital Channel_Programmatic Display</th>\n",
       "      <th>Ad Digital Channel_Search</th>\n",
       "      <th>Ad Digital Channel_Social</th>\n",
       "      <th>Audience Type_Audience Type 1</th>\n",
       "      <th>Audience Type_Audience Type 2</th>\n",
       "      <th>Audience Type_Audience Type 3</th>\n",
       "      <th>Audience Type_Audience Type 4</th>\n",
       "      <th>Audience Type_Audience Type 5</th>\n",
       "    </tr>\n",
       "  </thead>\n",
       "  <tbody>\n",
       "    <tr>\n",
       "      <th>0</th>\n",
       "      <td>4.822978</td>\n",
       "      <td>55.004942</td>\n",
       "      <td>0</td>\n",
       "      <td>1</td>\n",
       "      <td>0</td>\n",
       "      <td>1</td>\n",
       "      <td>0</td>\n",
       "      <td>0</td>\n",
       "      <td>0</td>\n",
       "      <td>0</td>\n",
       "    </tr>\n",
       "    <tr>\n",
       "      <th>1</th>\n",
       "      <td>3.060041</td>\n",
       "      <td>6.261748</td>\n",
       "      <td>0</td>\n",
       "      <td>1</td>\n",
       "      <td>0</td>\n",
       "      <td>1</td>\n",
       "      <td>0</td>\n",
       "      <td>0</td>\n",
       "      <td>0</td>\n",
       "      <td>0</td>\n",
       "    </tr>\n",
       "    <tr>\n",
       "      <th>2</th>\n",
       "      <td>2.880727</td>\n",
       "      <td>106.838661</td>\n",
       "      <td>0</td>\n",
       "      <td>1</td>\n",
       "      <td>0</td>\n",
       "      <td>1</td>\n",
       "      <td>0</td>\n",
       "      <td>0</td>\n",
       "      <td>0</td>\n",
       "      <td>0</td>\n",
       "    </tr>\n",
       "    <tr>\n",
       "      <th>3</th>\n",
       "      <td>2.230852</td>\n",
       "      <td>12.932054</td>\n",
       "      <td>0</td>\n",
       "      <td>1</td>\n",
       "      <td>0</td>\n",
       "      <td>1</td>\n",
       "      <td>0</td>\n",
       "      <td>0</td>\n",
       "      <td>0</td>\n",
       "      <td>0</td>\n",
       "    </tr>\n",
       "    <tr>\n",
       "      <th>4</th>\n",
       "      <td>3.381082</td>\n",
       "      <td>33.822295</td>\n",
       "      <td>0</td>\n",
       "      <td>0</td>\n",
       "      <td>1</td>\n",
       "      <td>0</td>\n",
       "      <td>1</td>\n",
       "      <td>0</td>\n",
       "      <td>0</td>\n",
       "      <td>0</td>\n",
       "    </tr>\n",
       "  </tbody>\n",
       "</table>\n",
       "</div>"
      ],
      "text/plain": [
       "      spend        Perf  Ad Digital Channel_Programmatic Display  \\\n",
       "0  4.822978   55.004942                                        0   \n",
       "1  3.060041    6.261748                                        0   \n",
       "2  2.880727  106.838661                                        0   \n",
       "3  2.230852   12.932054                                        0   \n",
       "4  3.381082   33.822295                                        0   \n",
       "\n",
       "   Ad Digital Channel_Search  Ad Digital Channel_Social  \\\n",
       "0                          1                          0   \n",
       "1                          1                          0   \n",
       "2                          1                          0   \n",
       "3                          1                          0   \n",
       "4                          0                          1   \n",
       "\n",
       "   Audience Type_Audience Type 1  Audience Type_Audience Type 2  \\\n",
       "0                              1                              0   \n",
       "1                              1                              0   \n",
       "2                              1                              0   \n",
       "3                              1                              0   \n",
       "4                              0                              1   \n",
       "\n",
       "   Audience Type_Audience Type 3  Audience Type_Audience Type 4  \\\n",
       "0                              0                              0   \n",
       "1                              0                              0   \n",
       "2                              0                              0   \n",
       "3                              0                              0   \n",
       "4                              0                              0   \n",
       "\n",
       "   Audience Type_Audience Type 5  \n",
       "0                              0  \n",
       "1                              0  \n",
       "2                              0  \n",
       "3                              0  \n",
       "4                              0  "
      ]
     },
     "execution_count": 154,
     "metadata": {},
     "output_type": "execute_result"
    }
   ],
   "source": [
    "data_final = pd.get_dummies(df, columns = ['Ad Digital Channel','Audience Type'])\n",
    "data_final.head()"
   ]
  },
  {
   "cell_type": "code",
   "execution_count": 155,
   "id": "d657e1c1",
   "metadata": {},
   "outputs": [
    {
     "data": {
      "text/html": [
       "<div>\n",
       "<style scoped>\n",
       "    .dataframe tbody tr th:only-of-type {\n",
       "        vertical-align: middle;\n",
       "    }\n",
       "\n",
       "    .dataframe tbody tr th {\n",
       "        vertical-align: top;\n",
       "    }\n",
       "\n",
       "    .dataframe thead th {\n",
       "        text-align: right;\n",
       "    }\n",
       "</style>\n",
       "<table border=\"1\" class=\"dataframe\">\n",
       "  <thead>\n",
       "    <tr style=\"text-align: right;\">\n",
       "      <th></th>\n",
       "      <th>spend</th>\n",
       "      <th>Perf</th>\n",
       "      <th>Ad Digital Channel_Programmatic Display</th>\n",
       "      <th>Ad Digital Channel_Search</th>\n",
       "      <th>Ad Digital Channel_Social</th>\n",
       "      <th>Audience Type_Audience Type 1</th>\n",
       "      <th>Audience Type_Audience Type 2</th>\n",
       "      <th>Audience Type_Audience Type 3</th>\n",
       "      <th>Audience Type_Audience Type 4</th>\n",
       "      <th>Audience Type_Audience Type 5</th>\n",
       "    </tr>\n",
       "  </thead>\n",
       "  <tbody>\n",
       "    <tr>\n",
       "      <th>265383</th>\n",
       "      <td>3.381082</td>\n",
       "      <td>59.868782</td>\n",
       "      <td>0</td>\n",
       "      <td>1</td>\n",
       "      <td>0</td>\n",
       "      <td>1</td>\n",
       "      <td>0</td>\n",
       "      <td>0</td>\n",
       "      <td>0</td>\n",
       "      <td>0</td>\n",
       "    </tr>\n",
       "    <tr>\n",
       "      <th>265384</th>\n",
       "      <td>4.254370</td>\n",
       "      <td>38.224923</td>\n",
       "      <td>0</td>\n",
       "      <td>1</td>\n",
       "      <td>0</td>\n",
       "      <td>1</td>\n",
       "      <td>0</td>\n",
       "      <td>0</td>\n",
       "      <td>0</td>\n",
       "      <td>0</td>\n",
       "    </tr>\n",
       "    <tr>\n",
       "      <th>265385</th>\n",
       "      <td>5.572371</td>\n",
       "      <td>4729.152627</td>\n",
       "      <td>1</td>\n",
       "      <td>0</td>\n",
       "      <td>0</td>\n",
       "      <td>0</td>\n",
       "      <td>0</td>\n",
       "      <td>1</td>\n",
       "      <td>0</td>\n",
       "      <td>0</td>\n",
       "    </tr>\n",
       "    <tr>\n",
       "      <th>265386</th>\n",
       "      <td>6.724119</td>\n",
       "      <td>879.180709</td>\n",
       "      <td>1</td>\n",
       "      <td>0</td>\n",
       "      <td>0</td>\n",
       "      <td>0</td>\n",
       "      <td>0</td>\n",
       "      <td>0</td>\n",
       "      <td>0</td>\n",
       "      <td>1</td>\n",
       "    </tr>\n",
       "    <tr>\n",
       "      <th>265387</th>\n",
       "      <td>1.640360</td>\n",
       "      <td>107.037615</td>\n",
       "      <td>1</td>\n",
       "      <td>0</td>\n",
       "      <td>0</td>\n",
       "      <td>0</td>\n",
       "      <td>0</td>\n",
       "      <td>1</td>\n",
       "      <td>0</td>\n",
       "      <td>0</td>\n",
       "    </tr>\n",
       "  </tbody>\n",
       "</table>\n",
       "</div>"
      ],
      "text/plain": [
       "           spend         Perf  Ad Digital Channel_Programmatic Display  \\\n",
       "265383  3.381082    59.868782                                        0   \n",
       "265384  4.254370    38.224923                                        0   \n",
       "265385  5.572371  4729.152627                                        1   \n",
       "265386  6.724119   879.180709                                        1   \n",
       "265387  1.640360   107.037615                                        1   \n",
       "\n",
       "        Ad Digital Channel_Search  Ad Digital Channel_Social  \\\n",
       "265383                          1                          0   \n",
       "265384                          1                          0   \n",
       "265385                          0                          0   \n",
       "265386                          0                          0   \n",
       "265387                          0                          0   \n",
       "\n",
       "        Audience Type_Audience Type 1  Audience Type_Audience Type 2  \\\n",
       "265383                              1                              0   \n",
       "265384                              1                              0   \n",
       "265385                              0                              0   \n",
       "265386                              0                              0   \n",
       "265387                              0                              0   \n",
       "\n",
       "        Audience Type_Audience Type 3  Audience Type_Audience Type 4  \\\n",
       "265383                              0                              0   \n",
       "265384                              0                              0   \n",
       "265385                              1                              0   \n",
       "265386                              0                              0   \n",
       "265387                              1                              0   \n",
       "\n",
       "        Audience Type_Audience Type 5  \n",
       "265383                              0  \n",
       "265384                              0  \n",
       "265385                              0  \n",
       "265386                              1  \n",
       "265387                              0  "
      ]
     },
     "execution_count": 155,
     "metadata": {},
     "output_type": "execute_result"
    }
   ],
   "source": [
    "data_final.tail()"
   ]
  },
  {
   "cell_type": "code",
   "execution_count": 156,
   "id": "e0facefb",
   "metadata": {},
   "outputs": [],
   "source": [
    "y = data_final['Perf']\n",
    "X = data_final.drop('Perf', axis = 1)\n"
   ]
  },
  {
   "cell_type": "code",
   "execution_count": 157,
   "id": "f3658ebd",
   "metadata": {},
   "outputs": [
    {
     "name": "stdout",
     "output_type": "stream",
     "text": [
      "Train Score for Linear Regression: 0.20229655130004798\n",
      "Test Score for Linear Regression: 0.20865471982966655\n"
     ]
    }
   ],
   "source": [
    "\n",
    "from sklearn.preprocessing import StandardScaler\n",
    "scalar = StandardScaler()\n",
    "    \n",
    "\n",
    "from sklearn.model_selection import train_test_split\n",
    "X_train, X_test, y_train, y_test = train_test_split(X, y, random_state = 0)\n",
    "#X_train = scalar.fit_transform(X_train)\n",
    "#X_test = scalar.transform(X_test)\n",
    "\n",
    "from sklearn.linear_model import LinearRegression\n",
    "lreg = LinearRegression()\n",
    "lreg.fit(X_train, y_train)\n",
    "print('Train Score for Linear Regression:', lreg.score(X_train, y_train))\n",
    "print('Test Score for Linear Regression:', lreg.score(X_test, y_test))"
   ]
  },
  {
   "cell_type": "code",
   "execution_count": 158,
   "id": "2530c2ce",
   "metadata": {},
   "outputs": [
    {
     "name": "stdout",
     "output_type": "stream",
     "text": [
      "                            OLS Regression Results                            \n",
      "==============================================================================\n",
      "Dep. Variable:                   Perf   R-squared:                       0.204\n",
      "Model:                            OLS   Adj. R-squared:                  0.204\n",
      "Method:                 Least Squares   F-statistic:                     8492.\n",
      "Date:                Tue, 14 Mar 2023   Prob (F-statistic):               0.00\n",
      "Time:                        18:26:42   Log-Likelihood:            -2.6811e+06\n",
      "No. Observations:              265388   AIC:                         5.362e+06\n",
      "Df Residuals:                  265379   BIC:                         5.362e+06\n",
      "Df Model:                           8                                         \n",
      "Covariance Type:            nonrobust                                         \n",
      "===========================================================================================================\n",
      "                                              coef    std err          t      P>|t|      [0.025      0.975]\n",
      "-----------------------------------------------------------------------------------------------------------\n",
      "const                                   -4.771e+14   1.05e+15     -0.456      0.649   -2.53e+15    1.57e+15\n",
      "spend                                    1020.1852      5.546    183.953      0.000    1009.315    1031.055\n",
      "Ad Digital Channel_Programmatic Display  3.029e+12   3.97e+14      0.008      0.994   -7.75e+14    7.81e+14\n",
      "Ad Digital Channel_Search                3.029e+12   3.97e+14      0.008      0.994   -7.75e+14    7.81e+14\n",
      "Ad Digital Channel_Social                3.029e+12   3.97e+14      0.008      0.994   -7.75e+14    7.81e+14\n",
      "Audience Type_Audience Type 1            4.741e+14   8.96e+14      0.529      0.597   -1.28e+15    2.23e+15\n",
      "Audience Type_Audience Type 2            4.741e+14   8.96e+14      0.529      0.597   -1.28e+15    2.23e+15\n",
      "Audience Type_Audience Type 3            4.741e+14   8.96e+14      0.529      0.597   -1.28e+15    2.23e+15\n",
      "Audience Type_Audience Type 4            4.741e+14   8.96e+14      0.529      0.597   -1.28e+15    2.23e+15\n",
      "Audience Type_Audience Type 5            4.741e+14   8.96e+14      0.529      0.597   -1.28e+15    2.23e+15\n",
      "==============================================================================\n",
      "Omnibus:                   416210.442   Durbin-Watson:                   1.938\n",
      "Prob(Omnibus):                  0.000   Jarque-Bera (JB):        509267367.888\n",
      "Skew:                           9.803   Prob(JB):                         0.00\n",
      "Kurtosis:                     216.707   Cond. No.                     9.22e+14\n",
      "==============================================================================\n",
      "\n",
      "Notes:\n",
      "[1] Standard Errors assume that the covariance matrix of the errors is correctly specified.\n",
      "[2] The smallest eigenvalue is 6.94e-24. This might indicate that there are\n",
      "strong multicollinearity problems or that the design matrix is singular.\n"
     ]
    }
   ],
   "source": [
    "import pandas as pd\n",
    "import numpy as np\n",
    "from sklearn import datasets, linear_model\n",
    "from sklearn.linear_model import LinearRegression\n",
    "import statsmodels.api as sm\n",
    "from scipy import stats\n",
    "\n",
    "X2 = sm.add_constant(X)\n",
    "est = sm.OLS(y, X2)\n",
    "est2 = est.fit()\n",
    "print(est2.summary())"
   ]
  },
  {
   "cell_type": "code",
   "execution_count": 58,
   "id": "b9177f18",
   "metadata": {},
   "outputs": [
    {
     "name": "stdout",
     "output_type": "stream",
     "text": [
      "Train Score for Linear Regression: 0.5711765496854114\n",
      "Test Score for Linear Regression: 0.572260414903272\n"
     ]
    }
   ],
   "source": [
    "\n",
    "from sklearn.linear_model import LinearRegression\n",
    "lreg = LinearRegression()\n",
    "lreg.fit(X_train, y_train)\n",
    "print('Train Score for Linear Regression:', lreg.score(X_train, y_train))\n",
    "print('Test Score for Linear Regression:', lreg.score(X_test, y_test))"
   ]
  },
  {
   "cell_type": "code",
   "execution_count": 66,
   "id": "4257478d",
   "metadata": {},
   "outputs": [
    {
     "data": {
      "text/plain": [
       "array([ 9.44080499e-01, -9.92759993e+11, -9.92759993e+11, -9.92759993e+11,\n",
       "       -2.65371998e+11, -2.65371998e+11, -2.65371998e+11, -2.65371998e+11,\n",
       "       -2.65371998e+11])"
      ]
     },
     "execution_count": 66,
     "metadata": {},
     "output_type": "execute_result"
    }
   ],
   "source": [
    "lreg.coef_"
   ]
  },
  {
   "cell_type": "code",
   "execution_count": 59,
   "id": "924bbc0f",
   "metadata": {},
   "outputs": [
    {
     "name": "stdout",
     "output_type": "stream",
     "text": [
      "Train Score for Ridge Regression: 0.5711805756621504\n",
      "Test Score for Ridge Regression: 0.5722602672501352\n"
     ]
    }
   ],
   "source": [
    "#Ridge(random_state = 0)\n",
    "from sklearn.linear_model import Ridge\n",
    "\n",
    "ridge = Ridge(random_state= 0)\n",
    "ridge.fit(X_train, y_train)\n",
    "\n",
    "print('Train Score for Ridge Regression:', ridge.score(X_train, y_train))\n",
    "print('Test Score for Ridge Regression:', ridge.score(X_test, y_test))\n",
    "\n"
   ]
  },
  {
   "cell_type": "code",
   "execution_count": 60,
   "id": "ebef30f3",
   "metadata": {},
   "outputs": [
    {
     "name": "stdout",
     "output_type": "stream",
     "text": [
      "Train Score for Lasso Regression: 0.3876162866275654\n",
      "Test Score for Lasso Regression: 0.38754077159840117\n"
     ]
    }
   ],
   "source": [
    "#Lasso(random_state = 0)\n",
    "from sklearn.linear_model import Lasso\n",
    "\n",
    "lasso = Lasso(random_state= 0)\n",
    "lasso.fit(X_train, y_train)\n",
    "\n",
    "print('Train Score for Lasso Regression:', lasso.score(X_train, y_train))\n",
    "print('Test Score for Lasso Regression:', lasso.score(X_test, y_test))"
   ]
  },
  {
   "cell_type": "code",
   "execution_count": 61,
   "id": "a5f9549b",
   "metadata": {},
   "outputs": [
    {
     "name": "stdout",
     "output_type": "stream",
     "text": [
      "Train Score for Decision Tree Regression: 0.442486396123803\n",
      "Test Score for Decision Tree Regression: 0.44240560070271984\n"
     ]
    }
   ],
   "source": [
    "#DecisionTreeRegressor(max_depth = 2, random_state= 0)\n",
    "from sklearn.tree import DecisionTreeRegressor\n",
    "dr = DecisionTreeRegressor(max_depth = 2, random_state= 0)\n",
    "dr.fit(X_train, y_train)\n",
    "\n",
    "print('Train Score for Decision Tree Regression:', dr.score(X_train, y_train))\n",
    "print('Test Score for Decision Tree Regression:', dr.score(X_test, y_test))"
   ]
  },
  {
   "cell_type": "code",
   "execution_count": 65,
   "id": "cb80cfa0",
   "metadata": {},
   "outputs": [
    {
     "ename": "AttributeError",
     "evalue": "'DecisionTreeRegressor' object has no attribute 'coef_'",
     "output_type": "error",
     "traceback": [
      "\u001b[0;31m---------------------------------------------------------------------------\u001b[0m",
      "\u001b[0;31mAttributeError\u001b[0m                            Traceback (most recent call last)",
      "Input \u001b[0;32mIn [65]\u001b[0m, in \u001b[0;36m<cell line: 1>\u001b[0;34m()\u001b[0m\n\u001b[0;32m----> 1\u001b[0m \u001b[43mdr\u001b[49m\u001b[38;5;241;43m.\u001b[39;49m\u001b[43mcoef_\u001b[49m\n",
      "\u001b[0;31mAttributeError\u001b[0m: 'DecisionTreeRegressor' object has no attribute 'coef_'"
     ]
    }
   ],
   "source": [
    "dr.coef_"
   ]
  },
  {
   "cell_type": "code",
   "execution_count": 62,
   "id": "689824be",
   "metadata": {},
   "outputs": [],
   "source": [
    "# from sklearn.neighbors import KNeighborsRegressor\n",
    "# knn = KNeighborsRegressor()\n",
    "# knn.fit(X_train, y_train)\n",
    "\n",
    "# print('Train Score for KNN Regression:', knn.score(X_train, y_train))\n",
    "# print('Test Score for KNN Regression:', knn.score(X_test, y_test))"
   ]
  },
  {
   "cell_type": "code",
   "execution_count": 63,
   "id": "ece7aef2",
   "metadata": {},
   "outputs": [
    {
     "name": "stdout",
     "output_type": "stream",
     "text": [
      "[17:35:53] WARNING: /Users/runner/work/xgboost/xgboost/python-package/build/temp.macosx-10.9-x86_64-cpython-37/xgboost/src/objective/regression_obj.cu:203: reg:linear is now deprecated in favor of reg:squarederror.\n",
      "Train Score for XGBoost linear Regression: 0.6102299681587877\n",
      "Test Score for XGBoost linear Regression: 0.61090251838468\n"
     ]
    }
   ],
   "source": [
    "from sklearn.model_selection import train_test_split\n",
    "X_train, X_test, y_train, y_test = train_test_split(X, y, random_state = 0)\n",
    "import xgboost as xg\n",
    "\n",
    "xgb_r = xg.XGBRegressor(objective ='reg:linear',\n",
    "                  n_estimators = 10, seed = 123)  \n",
    "# Fitting the model\n",
    "xgb_r.fit(X_train, y_train)\n",
    "\n",
    "print('Train Score for XGBoost linear Regression:', xgb_r.score(X_train, y_train))\n",
    "print('Test Score for XGBoost linear Regression:', xgb_r.score(X_test, y_test))"
   ]
  },
  {
   "cell_type": "code",
   "execution_count": 64,
   "id": "5578ab5c",
   "metadata": {},
   "outputs": [
    {
     "ename": "AttributeError",
     "evalue": "Coefficients are not defined for Booster type None",
     "output_type": "error",
     "traceback": [
      "\u001b[0;31m---------------------------------------------------------------------------\u001b[0m",
      "\u001b[0;31mAttributeError\u001b[0m                            Traceback (most recent call last)",
      "Input \u001b[0;32mIn [64]\u001b[0m, in \u001b[0;36m<cell line: 1>\u001b[0;34m()\u001b[0m\n\u001b[0;32m----> 1\u001b[0m \u001b[43mxgb_r\u001b[49m\u001b[38;5;241;43m.\u001b[39;49m\u001b[43mcoef_\u001b[49m\n",
      "File \u001b[0;32m~/opt/anaconda3/lib/python3.9/site-packages/xgboost/sklearn.py:1236\u001b[0m, in \u001b[0;36mXGBModel.coef_\u001b[0;34m(self)\u001b[0m\n\u001b[1;32m   1222\u001b[0m \u001b[38;5;124;03m\"\"\"\u001b[39;00m\n\u001b[1;32m   1223\u001b[0m \u001b[38;5;124;03mCoefficients property\u001b[39;00m\n\u001b[1;32m   1224\u001b[0m \n\u001b[0;32m   (...)\u001b[0m\n\u001b[1;32m   1233\u001b[0m \u001b[38;5;124;03mcoef_ : array of shape ``[n_features]`` or ``[n_classes, n_features]``\u001b[39;00m\n\u001b[1;32m   1234\u001b[0m \u001b[38;5;124;03m\"\"\"\u001b[39;00m\n\u001b[1;32m   1235\u001b[0m \u001b[38;5;28;01mif\u001b[39;00m \u001b[38;5;28mself\u001b[39m\u001b[38;5;241m.\u001b[39mget_params()[\u001b[38;5;124m'\u001b[39m\u001b[38;5;124mbooster\u001b[39m\u001b[38;5;124m'\u001b[39m] \u001b[38;5;241m!=\u001b[39m \u001b[38;5;124m'\u001b[39m\u001b[38;5;124mgblinear\u001b[39m\u001b[38;5;124m'\u001b[39m:\n\u001b[0;32m-> 1236\u001b[0m     \u001b[38;5;28;01mraise\u001b[39;00m \u001b[38;5;167;01mAttributeError\u001b[39;00m(\n\u001b[1;32m   1237\u001b[0m         \u001b[38;5;124mf\u001b[39m\u001b[38;5;124m\"\u001b[39m\u001b[38;5;124mCoefficients are not defined for Booster type \u001b[39m\u001b[38;5;132;01m{\u001b[39;00m\u001b[38;5;28mself\u001b[39m\u001b[38;5;241m.\u001b[39mbooster\u001b[38;5;132;01m}\u001b[39;00m\u001b[38;5;124m\"\u001b[39m\n\u001b[1;32m   1238\u001b[0m     )\n\u001b[1;32m   1239\u001b[0m b \u001b[38;5;241m=\u001b[39m \u001b[38;5;28mself\u001b[39m\u001b[38;5;241m.\u001b[39mget_booster()\n\u001b[1;32m   1240\u001b[0m coef \u001b[38;5;241m=\u001b[39m np\u001b[38;5;241m.\u001b[39marray(json\u001b[38;5;241m.\u001b[39mloads(b\u001b[38;5;241m.\u001b[39mget_dump(dump_format\u001b[38;5;241m=\u001b[39m\u001b[38;5;124m'\u001b[39m\u001b[38;5;124mjson\u001b[39m\u001b[38;5;124m'\u001b[39m)[\u001b[38;5;241m0\u001b[39m])[\u001b[38;5;124m'\u001b[39m\u001b[38;5;124mweight\u001b[39m\u001b[38;5;124m'\u001b[39m])\n",
      "\u001b[0;31mAttributeError\u001b[0m: Coefficients are not defined for Booster type None"
     ]
    }
   ],
   "source": []
  },
  {
   "cell_type": "code",
   "execution_count": null,
   "id": "ba702986",
   "metadata": {},
   "outputs": [],
   "source": []
  }
 ],
 "metadata": {
  "kernelspec": {
   "display_name": "Python 3 (ipykernel)",
   "language": "python",
   "name": "python3"
  },
  "language_info": {
   "codemirror_mode": {
    "name": "ipython",
    "version": 3
   },
   "file_extension": ".py",
   "mimetype": "text/x-python",
   "name": "python",
   "nbconvert_exporter": "python",
   "pygments_lexer": "ipython3",
   "version": "3.10.9"
  }
 },
 "nbformat": 4,
 "nbformat_minor": 5
}
