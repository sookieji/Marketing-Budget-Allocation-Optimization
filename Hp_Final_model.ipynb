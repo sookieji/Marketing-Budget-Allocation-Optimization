{
 "cells": [
  {
   "cell_type": "code",
   "execution_count": 5,
   "id": "676ab9b7",
   "metadata": {},
   "outputs": [],
   "source": [
    "import pandas as pd\n",
    "import matplotlib.pyplot as plt\n",
    "data2 = pd.read_csv('spend_hp_data_2.csv')"
   ]
  },
  {
   "cell_type": "code",
   "execution_count": 6,
   "id": "139f1b50",
   "metadata": {},
   "outputs": [
    {
     "name": "stdout",
     "output_type": "stream",
     "text": [
      "Train Score for Linear Regression: 0.21109049521590872\n",
      "Test Score for Linear Regression: 0.21588435035244324\n"
     ]
    }
   ],
   "source": [
    "y = data2[['$ Spend']]\n",
    "X = data2[['# Impressions']]\n",
    "from sklearn.preprocessing import StandardScaler\n",
    "scalar = StandardScaler()\n",
    "    \n",
    "\n",
    "from sklearn.model_selection import train_test_split\n",
    "X_train, X_test, y_train, y_test = train_test_split(X, y, random_state = 0)\n",
    "X_train = scalar.fit_transform(X_train)\n",
    "X_test = scalar.transform(X_test)\n",
    "\n",
    "from sklearn.linear_model import LinearRegression\n",
    "lreg = LinearRegression()\n",
    "lreg.fit(X_train, y_train)\n",
    "print('Train Score for Linear Regression:', lreg.score(X_train, y_train))\n",
    "print('Test Score for Linear Regression:', lreg.score(X_test, y_test))"
   ]
  },
  {
   "cell_type": "code",
   "execution_count": 7,
   "id": "7bc0c662",
   "metadata": {},
   "outputs": [
    {
     "name": "stdout",
     "output_type": "stream",
     "text": [
      "Train Score for Linear Regression: 0.2110904952159086\n",
      "Test Score for Linear Regression: 0.2162372382586637\n"
     ]
    }
   ],
   "source": [
    "X = data2[['$ Spend']]\n",
    "y = data2[['# Impressions']]\n",
    "from sklearn.preprocessing import StandardScaler\n",
    "scalar = StandardScaler()\n",
    "    \n",
    "\n",
    "from sklearn.model_selection import train_test_split\n",
    "X_train, X_test, y_train, y_test = train_test_split(X, y, random_state = 0)\n",
    "X_train = scalar.fit_transform(X_train)\n",
    "X_test = scalar.transform(X_test)\n",
    "\n",
    "from sklearn.linear_model import LinearRegression\n",
    "lreg = LinearRegression()\n",
    "lreg.fit(X_train, y_train)\n",
    "print('Train Score for Linear Regression:', lreg.score(X_train, y_train))\n",
    "print('Test Score for Linear Regression:', lreg.score(X_test, y_test))"
   ]
  },
  {
   "cell_type": "code",
   "execution_count": 8,
   "id": "90e5d7fe",
   "metadata": {},
   "outputs": [
    {
     "name": "stdout",
     "output_type": "stream",
     "text": [
      "Train Score for Linear Regression: 0.2547128394169931\n",
      "Test Score for Linear Regression: 0.2579393858790481\n"
     ]
    }
   ],
   "source": [
    "from sklearn.preprocessing import StandardScaler\n",
    "scalar = StandardScaler()\n",
    "y = data2[['$ Spend']]\n",
    "X = data2[['# Impressions','# Clicks','# Social Likes','# Web Visit','# Social Shares',\n",
    "           '# Video Completes','# Product View', '# Collateral View','# Form Complete']]\n",
    "from sklearn.model_selection import train_test_split\n",
    "X_train, X_test, y_train, y_test = train_test_split(X, y, random_state = 0)\n",
    "X_train = scalar.fit_transform(X_train)\n",
    "X_test = scalar.transform(X_test)\n",
    "from sklearn.linear_model import LinearRegression\n",
    "lreg = LinearRegression()\n",
    "lreg.fit(X_train, y_train)\n",
    "print('Train Score for Linear Regression:', lreg.score(X_train, y_train))\n",
    "print('Test Score for Linear Regression:', lreg.score(X_test, y_test))"
   ]
  },
  {
   "cell_type": "code",
   "execution_count": 33,
   "id": "a804c8f2",
   "metadata": {},
   "outputs": [
    {
     "name": "stdout",
     "output_type": "stream",
     "text": [
      "<class 'pandas.core.frame.DataFrame'>\n",
      "RangeIndex: 266304 entries, 0 to 266303\n",
      "Data columns (total 22 columns):\n",
      " #   Column              Non-Null Count   Dtype  \n",
      "---  ------              --------------   -----  \n",
      " 0   Date                266304 non-null  object \n",
      " 1   Campaign ID         266304 non-null  int64  \n",
      " 2   Campaign Goal Code  266304 non-null  object \n",
      " 3   Campaign Ad ID      266304 non-null  int64  \n",
      " 4   Ad Digital Channel  266304 non-null  object \n",
      " 5   Ad channel partner  266304 non-null  object \n",
      " 6   Ad Device           266304 non-null  object \n",
      " 7   Ad Group            266304 non-null  object \n",
      " 8   Ad Content Type     266304 non-null  object \n",
      " 9   Audience Type       266304 non-null  object \n",
      " 10  $ Spend             266304 non-null  int64  \n",
      " 11  # Impressions       266304 non-null  int64  \n",
      " 12  # Clicks            266304 non-null  int64  \n",
      " 13  # Video Completes   266304 non-null  int64  \n",
      " 14  # Social Likes      266304 non-null  int64  \n",
      " 15  # Social Shares     266304 non-null  int64  \n",
      " 16  # Web Visit         266304 non-null  int64  \n",
      " 17  # Collateral View   266304 non-null  int64  \n",
      " 18  # Product View      266304 non-null  int64  \n",
      " 19  # Form Complete     266304 non-null  int64  \n",
      " 20  CPC                 266304 non-null  float64\n",
      " 21  Perf                266304 non-null  float64\n",
      "dtypes: float64(2), int64(12), object(8)\n",
      "memory usage: 44.7+ MB\n"
     ]
    }
   ],
   "source": [
    "data2 = pd.read_csv('spend_hp_data_2.csv')\n",
    "data2.info()"
   ]
  },
  {
   "cell_type": "code",
   "execution_count": 34,
   "id": "c424a9ad",
   "metadata": {},
   "outputs": [],
   "source": [
    "data2 = data2[data2['# Impressions']>0]"
   ]
  },
  {
   "cell_type": "code",
   "execution_count": 37,
   "id": "524086a9",
   "metadata": {},
   "outputs": [
    {
     "data": {
      "text/plain": [
       "<matplotlib.collections.PathCollection at 0x7fefe8efff40>"
      ]
     },
     "execution_count": 37,
     "metadata": {},
     "output_type": "execute_result"
    },
    {
     "data": {
      "image/png": "[encoded data removed]",
      "text/plain": [
       "<Figure size 432x288 with 1 Axes>"
      ]
     },
     "metadata": {
      "needs_background": "light"
     },
     "output_type": "display_data"
    }
   ],
   "source": [
    "from scipy import stats\n",
    "X = data2[['$ Spend']]\n",
    "y = data2['# Impressions']\n",
    "y,_ = stats.boxcox(y)\n",
    "#X,_ = stats.boxcox(X)\n",
    "\n",
    "y = pd.DataFrame({'# Impressions':y})\n",
    "#X = pd.DataFrame({'$ Spend':X})\n",
    "\n",
    "plt.scatter(X,y)"
   ]
  },
  {
   "cell_type": "code",
   "execution_count": 31,
   "id": "d04b2189",
   "metadata": {},
   "outputs": [
    {
     "name": "stdout",
     "output_type": "stream",
     "text": [
      "                            OLS Regression Results                            \n",
      "==============================================================================\n",
      "Dep. Variable:                   Perf   R-squared:                       0.227\n",
      "Model:                            OLS   Adj. R-squared:                  0.227\n",
      "Method:                 Least Squares   F-statistic:                 1.112e+04\n",
      "Date:                Tue, 14 Mar 2023   Prob (F-statistic):               0.00\n",
      "Time:                        16:21:09   Log-Likelihood:            -2.6772e+06\n",
      "No. Observations:              265388   AIC:                         5.354e+06\n",
      "Df Residuals:                  265380   BIC:                         5.355e+06\n",
      "Df Model:                           7                                         \n",
      "Covariance Type:            nonrobust                                         \n",
      "===========================================================================================================\n",
      "                                              coef    std err          t      P>|t|      [0.025      0.975]\n",
      "-----------------------------------------------------------------------------------------------------------\n",
      "const                                    -241.1411     15.494    -15.563      0.000    -271.509    -210.773\n",
      "$ Spend                                   104.5746      0.475    220.143      0.000     103.644     105.506\n",
      "Ad Digital Channel_Programmatic Display   -51.1644     34.790     -1.471      0.141    -119.352      17.023\n",
      "Ad Digital Channel_Search                -262.7477     73.313     -3.584      0.000    -406.438    -119.057\n",
      "Ad Digital Channel_Social                  72.7710     45.623      1.595      0.111     -16.649     162.191\n",
      "Audience Type_Audience Type 1           -1627.7216     82.390    -19.756      0.000   -1789.205   -1466.239\n",
      "Audience Type_Audience Type 2            -805.9432     34.578    -23.308      0.000    -873.715    -738.172\n",
      "Audience Type_Audience Type 3            3501.0592     33.570    104.290      0.000    3435.262    3566.856\n",
      "Audience Type_Audience Type 4              20.3209     34.036      0.597      0.550     -46.390      87.031\n",
      "Audience Type_Audience Type 5           -1328.8563     33.284    -39.925      0.000   -1394.092   -1263.621\n",
      "==============================================================================\n",
      "Omnibus:                   414564.198   Durbin-Watson:                   1.933\n",
      "Prob(Omnibus):                  0.000   Jarque-Bera (JB):        528100922.301\n",
      "Skew:                           9.700   Prob(JB):                         0.00\n",
      "Kurtosis:                     220.673   Cond. No.                     1.87e+16\n",
      "==============================================================================\n",
      "\n",
      "Notes:\n",
      "[1] Standard Errors assume that the covariance matrix of the errors is correctly specified.\n",
      "[2] The smallest eigenvalue is 9.27e-25. This might indicate that there are\n",
      "strong multicollinearity problems or that the design matrix is singular.\n"
     ]
    }
   ],
   "source": [
    "import pandas as pd\n",
    "import numpy as np\n",
    "from sklearn import datasets, linear_model\n",
    "from sklearn.linear_model import LinearRegression\n",
    "import statsmodels.api as sm\n",
    "from scipy import stats\n",
    "\n",
    "X2 = sm.add_constant(X)\n",
    "est = sm.OLS(y, X2)\n",
    "est2 = est.fit()\n",
    "print(est2.summary())"
   ]
  },
  {
   "cell_type": "code",
   "execution_count": 17,
   "id": "a7ab4820",
   "metadata": {},
   "outputs": [
    {
     "name": "stdout",
     "output_type": "stream",
     "text": [
      "Train Score for polynomial Regression: 0.28405176184761494\n",
      "Test Score for polynomial Regression: 0.28203248666644654\n"
     ]
    }
   ],
   "source": [
    "from sklearn.model_selection import train_test_split\n",
    "X_train, X_test, y_train, y_test = train_test_split(X, y, random_state = 0)\n",
    "from sklearn.preprocessing import PolynomialFeatures\n",
    "\n",
    "poly = PolynomialFeatures(degree = 2)\n",
    "X_train_poly = poly.fit_transform(X_train)\n",
    "X_test_poly = poly.transform(X_test)\n",
    "polreg = LinearRegression()\n",
    "polreg.fit(X_train_poly, y_train)\n",
    "\n",
    "print('Train Score for polynomial Regression:', polreg.score(X_train_poly, y_train))\n",
    "print('Test Score for polynomial Regression:', polreg.score(X_test_poly, y_test))"
   ]
  },
  {
   "cell_type": "code",
   "execution_count": 18,
   "id": "1aaee465",
   "metadata": {},
   "outputs": [
    {
     "name": "stdout",
     "output_type": "stream",
     "text": [
      "<class 'pandas.core.frame.DataFrame'>\n",
      "Int64Index: 265388 entries, 0 to 266303\n",
      "Data columns (total 4 columns):\n",
      " #   Column              Non-Null Count   Dtype  \n",
      "---  ------              --------------   -----  \n",
      " 0   Ad Digital Channel  265388 non-null  object \n",
      " 1   Audience Type       265388 non-null  object \n",
      " 2   $ Spend             265388 non-null  int64  \n",
      " 3   Perf                265388 non-null  float64\n",
      "dtypes: float64(1), int64(1), object(2)\n",
      "memory usage: 10.1+ MB\n"
     ]
    }
   ],
   "source": [
    "data2.drop(data2.columns[[0,1,2,3,5,6,7,8,11,12,13,14,15,16,17,18,19,20]], axis = 1, inplace=True)\n",
    "data2.info()"
   ]
  },
  {
   "cell_type": "code",
   "execution_count": 19,
   "id": "ed88e19a",
   "metadata": {},
   "outputs": [
    {
     "name": "stdout",
     "output_type": "stream",
     "text": [
      "<class 'pandas.core.frame.DataFrame'>\n",
      "Int64Index: 265388 entries, 0 to 266303\n",
      "Data columns (total 10 columns):\n",
      " #   Column                                   Non-Null Count   Dtype  \n",
      "---  ------                                   --------------   -----  \n",
      " 0   $ Spend                                  265388 non-null  int64  \n",
      " 1   Perf                                     265388 non-null  float64\n",
      " 2   Ad Digital Channel_Programmatic Display  265388 non-null  uint8  \n",
      " 3   Ad Digital Channel_Search                265388 non-null  uint8  \n",
      " 4   Ad Digital Channel_Social                265388 non-null  uint8  \n",
      " 5   Audience Type_Audience Type 1            265388 non-null  uint8  \n",
      " 6   Audience Type_Audience Type 2            265388 non-null  uint8  \n",
      " 7   Audience Type_Audience Type 3            265388 non-null  uint8  \n",
      " 8   Audience Type_Audience Type 4            265388 non-null  uint8  \n",
      " 9   Audience Type_Audience Type 5            265388 non-null  uint8  \n",
      "dtypes: float64(1), int64(1), uint8(8)\n",
      "memory usage: 8.1 MB\n"
     ]
    }
   ],
   "source": [
    "data_final = pd.get_dummies(data2, columns = ['Ad Digital Channel','Audience Type'])\n",
    "data_final.info()"
   ]
  },
  {
   "cell_type": "code",
   "execution_count": 20,
   "id": "57138e9f",
   "metadata": {},
   "outputs": [],
   "source": [
    "#data_final.head()"
   ]
  },
  {
   "cell_type": "code",
   "execution_count": 21,
   "id": "45275880",
   "metadata": {},
   "outputs": [],
   "source": [
    "y = data_final['Perf']\n",
    "X = data_final.drop('Perf', axis=1)"
   ]
  },
  {
   "cell_type": "code",
   "execution_count": 22,
   "id": "adfc432b",
   "metadata": {},
   "outputs": [
    {
     "name": "stdout",
     "output_type": "stream",
     "text": [
      "                            OLS Regression Results                            \n",
      "==============================================================================\n",
      "Dep. Variable:                   Perf   R-squared:                       0.227\n",
      "Model:                            OLS   Adj. R-squared:                  0.227\n",
      "Method:                 Least Squares   F-statistic:                 1.112e+04\n",
      "Date:                Tue, 14 Mar 2023   Prob (F-statistic):               0.00\n",
      "Time:                        16:20:53   Log-Likelihood:            -2.6772e+06\n",
      "No. Observations:              265388   AIC:                         5.354e+06\n",
      "Df Residuals:                  265380   BIC:                         5.355e+06\n",
      "Df Model:                           7                                         \n",
      "Covariance Type:            nonrobust                                         \n",
      "===========================================================================================================\n",
      "                                              coef    std err          t      P>|t|      [0.025      0.975]\n",
      "-----------------------------------------------------------------------------------------------------------\n",
      "const                                    -241.1411     15.494    -15.563      0.000    -271.509    -210.773\n",
      "$ Spend                                   104.5746      0.475    220.143      0.000     103.644     105.506\n",
      "Ad Digital Channel_Programmatic Display   -51.1644     34.790     -1.471      0.141    -119.352      17.023\n",
      "Ad Digital Channel_Search                -262.7477     73.313     -3.584      0.000    -406.438    -119.057\n",
      "Ad Digital Channel_Social                  72.7710     45.623      1.595      0.111     -16.649     162.191\n",
      "Audience Type_Audience Type 1           -1627.7216     82.390    -19.756      0.000   -1789.205   -1466.239\n",
      "Audience Type_Audience Type 2            -805.9432     34.578    -23.308      0.000    -873.715    -738.172\n",
      "Audience Type_Audience Type 3            3501.0592     33.570    104.290      0.000    3435.262    3566.856\n",
      "Audience Type_Audience Type 4              20.3209     34.036      0.597      0.550     -46.390      87.031\n",
      "Audience Type_Audience Type 5           -1328.8563     33.284    -39.925      0.000   -1394.092   -1263.621\n",
      "==============================================================================\n",
      "Omnibus:                   414564.198   Durbin-Watson:                   1.933\n",
      "Prob(Omnibus):                  0.000   Jarque-Bera (JB):        528100922.301\n",
      "Skew:                           9.700   Prob(JB):                         0.00\n",
      "Kurtosis:                     220.673   Cond. No.                     1.87e+16\n",
      "==============================================================================\n",
      "\n",
      "Notes:\n",
      "[1] Standard Errors assume that the covariance matrix of the errors is correctly specified.\n",
      "[2] The smallest eigenvalue is 9.27e-25. This might indicate that there are\n",
      "strong multicollinearity problems or that the design matrix is singular.\n"
     ]
    }
   ],
   "source": [
    "import pandas as pd\n",
    "import numpy as np\n",
    "from sklearn import datasets, linear_model\n",
    "from sklearn.linear_model import LinearRegression\n",
    "import statsmodels.api as sm\n",
    "from scipy import stats\n",
    "\n",
    "X2 = sm.add_constant(X)\n",
    "est = sm.OLS(y, X2)\n",
    "est2 = est.fit()\n",
    "print(est2.summary())"
   ]
  },
  {
   "cell_type": "code",
   "execution_count": 23,
   "id": "f3658ebd",
   "metadata": {},
   "outputs": [
    {
     "name": "stdout",
     "output_type": "stream",
     "text": [
      "Train Score for Linear Regression: 0.22530303597944024\n",
      "Test Score for Linear Regression: 0.23154294132825914\n"
     ]
    }
   ],
   "source": [
    "\n",
    "from sklearn.preprocessing import StandardScaler\n",
    "scalar = StandardScaler()\n",
    "    \n",
    "\n",
    "from sklearn.model_selection import train_test_split\n",
    "X_train, X_test, y_train, y_test = train_test_split(X, y, random_state = 0)\n",
    "#X_train = scalar.fit_transform(X_train)\n",
    "#X_test = scalar.transform(X_test)\n",
    "\n",
    "from sklearn.linear_model import LinearRegression\n",
    "lreg = LinearRegression()\n",
    "lreg.fit(X_train, y_train)\n",
    "print('Train Score for Linear Regression:', lreg.score(X_train, y_train))\n",
    "print('Test Score for Linear Regression:', lreg.score(X_test, y_test))"
   ]
  },
  {
   "cell_type": "code",
   "execution_count": 24,
   "id": "b9177f18",
   "metadata": {},
   "outputs": [
    {
     "name": "stdout",
     "output_type": "stream",
     "text": [
      "Train Score for Linear Regression: 0.22530303597944024\n",
      "Test Score for Linear Regression: 0.23154294132825914\n"
     ]
    }
   ],
   "source": [
    "\n",
    "from sklearn.linear_model import LinearRegression\n",
    "lreg = LinearRegression()\n",
    "lreg.fit(X_train, y_train)\n",
    "print('Train Score for Linear Regression:', lreg.score(X_train, y_train))\n",
    "print('Test Score for Linear Regression:', lreg.score(X_test, y_test))"
   ]
  },
  {
   "cell_type": "code",
   "execution_count": 25,
   "id": "d83e50fa",
   "metadata": {},
   "outputs": [
    {
     "name": "stdout",
     "output_type": "stream",
     "text": [
      "Train Score for polynomial Regression: 0.314279517771881\n",
      "Test Score for polynomial Regression: 0.32662650562118734\n"
     ]
    }
   ],
   "source": [
    "from sklearn.preprocessing import PolynomialFeatures\n",
    "\n",
    "poly = PolynomialFeatures(degree = 2)\n",
    "X_train_poly = poly.fit_transform(X_train)\n",
    "X_test_poly = poly.transform(X_test)\n",
    "polreg = LinearRegression()\n",
    "polreg.fit(X_train_poly, y_train)\n",
    "\n",
    "print('Train Score for polynomial Regression:', polreg.score(X_train_poly, y_train))\n",
    "print('Test Score for polynomial Regression:', polreg.score(X_test_poly, y_test))"
   ]
  },
  {
   "cell_type": "code",
   "execution_count": 26,
   "id": "924bbc0f",
   "metadata": {},
   "outputs": [
    {
     "name": "stdout",
     "output_type": "stream",
     "text": [
      "Train Score for Ridge Regression: 0.2253044894446553\n",
      "Test Score for Ridge Regression: 0.2315487075439071\n"
     ]
    }
   ],
   "source": [
    "#Ridge(random_state = 0)\n",
    "from sklearn.linear_model import Ridge\n",
    "\n",
    "ridge = Ridge(random_state= 0)\n",
    "ridge.fit(X_train, y_train)\n",
    "\n",
    "print('Train Score for Ridge Regression:', ridge.score(X_train, y_train))\n",
    "print('Test Score for Ridge Regression:', ridge.score(X_test, y_test))\n",
    "\n"
   ]
  },
  {
   "cell_type": "code",
   "execution_count": 27,
   "id": "ebef30f3",
   "metadata": {},
   "outputs": [
    {
     "name": "stdout",
     "output_type": "stream",
     "text": [
      "Train Score for Lasso Regression: 0.22530365415903397\n",
      "Test Score for Lasso Regression: 0.23156716823476697\n"
     ]
    }
   ],
   "source": [
    "#Lasso(random_state = 0)\n",
    "from sklearn.linear_model import Lasso\n",
    "\n",
    "lasso = Lasso(random_state= 0)\n",
    "lasso.fit(X_train, y_train)\n",
    "\n",
    "print('Train Score for Lasso Regression:', lasso.score(X_train, y_train))\n",
    "print('Test Score for Lasso Regression:', lasso.score(X_test, y_test))"
   ]
  },
  {
   "cell_type": "code",
   "execution_count": 28,
   "id": "a5f9549b",
   "metadata": {},
   "outputs": [
    {
     "name": "stdout",
     "output_type": "stream",
     "text": [
      "Train Score for Decision Tree Regression: 0.23602454319879984\n",
      "Test Score for Decision Tree Regression: 0.24413061446269213\n"
     ]
    }
   ],
   "source": [
    "#DecisionTreeRegressor(max_depth = 2, random_state= 0)\n",
    "from sklearn.tree import DecisionTreeRegressor\n",
    "dr = DecisionTreeRegressor(max_depth = 2, random_state= 0)\n",
    "dr.fit(X_train, y_train)\n",
    "\n",
    "print('Train Score for Decision Tree Regression:', dr.score(X_train, y_train))\n",
    "print('Test Score for Decision Tree Regression:', dr.score(X_test, y_test))"
   ]
  },
  {
   "cell_type": "code",
   "execution_count": 29,
   "id": "689824be",
   "metadata": {},
   "outputs": [],
   "source": [
    "# from sklearn.neighbors import KNeighborsRegressor\n",
    "# knn = KNeighborsRegressor()\n",
    "# knn.fit(X_train, y_train)\n",
    "\n",
    "# print('Train Score for KNN Regression:', knn.score(X_train, y_train))\n",
    "# print('Test Score for KNN Regression:', knn.score(X_test, y_test))"
   ]
  },
  {
   "cell_type": "code",
   "execution_count": 30,
   "id": "ece7aef2",
   "metadata": {},
   "outputs": [
    {
     "name": "stdout",
     "output_type": "stream",
     "text": [
      "[16:21:03] WARNING: /Users/runner/work/xgboost/xgboost/python-package/build/temp.macosx-10.9-x86_64-cpython-37/xgboost/src/objective/regression_obj.cu:203: reg:linear is now deprecated in favor of reg:squarederror.\n",
      "Train Score for XGBoost linear Regression: 0.32919051311576075\n",
      "Test Score for XGBoost linear Regression: 0.32960012166699326\n"
     ]
    }
   ],
   "source": [
    "import xgboost as xg\n",
    "\n",
    "xgb_r = xg.XGBRegressor(objective ='reg:linear',\n",
    "                  n_estimators = 10, seed = 123)  \n",
    "# Fitting the model\n",
    "xgb_r.fit(X_train, y_train)\n",
    "\n",
    "print('Train Score for XGBoost linear Regression:', xgb_r.score(X_train, y_train))\n",
    "print('Test Score for XGBoost linear Regression:', xgb_r.score(X_test, y_test))"
   ]
  },
  {
   "cell_type": "code",
   "execution_count": null,
   "id": "5578ab5c",
   "metadata": {},
   "outputs": [],
   "source": []
  }
 ],
 "metadata": {
  "kernelspec": {
   "display_name": "Python 3 (ipykernel)",
   "language": "python",
   "name": "python3"
  },
  "language_info": {
   "codemirror_mode": {
    "name": "ipython",
    "version": 3
   },
   "file_extension": ".py",
   "mimetype": "text/x-python",
   "name": "python",
   "nbconvert_exporter": "python",
   "pygments_lexer": "ipython3",
   "version": "3.10.9"
  }
 },
 "nbformat": 4,
 "nbformat_minor": 5
}
